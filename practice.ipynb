{
 "cells": [
  {
   "cell_type": "code",
   "execution_count": 1,
   "metadata": {},
   "outputs": [],
   "source": [
    "import piheaan as heaan\n",
    "from piheaan.math import sort\n",
    "from piheaan.math import approx # for piheaan math function\n",
    "import math\n",
    "import numpy as np\n",
    "import pandas as pd\n",
    "import os"
   ]
  },
  {
   "cell_type": "code",
   "execution_count": 2,
   "metadata": {},
   "outputs": [],
   "source": [
    "# set parameter\n",
    "params = heaan.ParameterPreset.FGb\n",
    "context = heaan.make_context(params) # context has paramter information\n",
    "heaan.make_bootstrappable(context) # make parameter bootstrapable\n",
    "\n",
    "# create and save keys\n",
    "key_file_path = \"./keys\"\n",
    "sk = heaan.SecretKey(context) # create secret key\n",
    "os.makedirs(key_file_path, mode=0o775, exist_ok=True)\n",
    "sk.save(key_file_path+\"/secretkey.bin\") # save secret key\n",
    "\n",
    "key_generator = heaan.KeyGenerator(context, sk) # create public key\n",
    "key_generator.gen_common_keys()\n",
    "key_generator.save(key_file_path+\"/\") # save public key"
   ]
  },
  {
   "cell_type": "code",
   "execution_count": 3,
   "metadata": {},
   "outputs": [],
   "source": [
    "# load secret key and public key\n",
    "# When a key is created, it can be used again to save a new key without creating a new one\n",
    "key_file_path = \"./keys\"\n",
    "\n",
    "sk = heaan.SecretKey(context,key_file_path+\"/secretkey.bin\") # load secret key\n",
    "pk = heaan.KeyPack(context, key_file_path+\"/\") # load public key\n",
    "pk.load_enc_key()\n",
    "pk.load_mult_key()\n",
    "\n",
    "eval = heaan.HomEvaluator(context,pk) # to load piheaan basic function\n",
    "dec = heaan.Decryptor(context) # for decrypt\n",
    "enc = heaan.Encryptor(context) # for encrypt"
   ]
  },
  {
   "cell_type": "code",
   "execution_count": 4,
   "metadata": {},
   "outputs": [],
   "source": [
    "# log_slots is used for the number of slots per ciphertext\n",
    "# It depends on the parameter used (ParameterPreset)\n",
    "# The number '15' is the value for maximum number of slots,\n",
    "# but you can also use a smaller number (ex. 2, 3, 5, 7 ...)\n",
    "# The actual number of slots in the ciphertext is calculated as below.\n",
    "log_slots = 15 \n",
    "num_slots = 2**log_slots"
   ]
  },
  {
   "cell_type": "code",
   "execution_count": 5,
   "metadata": {},
   "outputs": [],
   "source": [
    "input_msg = heaan.Message(log_slots)\n",
    "for k in range(num_slots):\n",
    "    input_msg[k] = k*0.00001\n",
    "\n",
    "input_ctxt = heaan.Ciphertext(context)\n",
    "enc.encrypt(input_msg, pk, input_ctxt)\n",
    "\n"
   ]
  },
  {
   "cell_type": "code",
   "execution_count": 6,
   "metadata": {},
   "outputs": [],
   "source": [
    "# mean\n",
    "def cal_mean(input_ctxt):\n",
    "    # 1. sum all value\n",
    "    duplicate_ctxt = heaan.Ciphertext(input_ctxt)\n",
    "    tmp_ctxt = heaan.Ciphertext(input_ctxt)\n",
    "    for i in range(int(np.log2(num_slots))):\n",
    "        eval.left_rotate(duplicate_ctxt, 2**i, tmp_ctxt)\n",
    "        if duplicate_ctxt.level == eval.min_level_for_bootstrap:\n",
    "            eval.bootstrap(duplicate_ctxt, duplicate_ctxt)\n",
    "        if tmp_ctxt.level == eval.min_level_for_bootstrap:\n",
    "            eval.bootstrap(tmp_ctxt, tmp_ctxt)\n",
    "\n",
    "        eval.add(duplicate_ctxt, tmp_ctxt, duplicate_ctxt)\n",
    "\n",
    "    # Lets check sum\n",
    "    # output_msg = piheaan.Message(log_slots)\n",
    "    # dec.decrypt(duplicate_ctxt,sk,output_msg)\n",
    "    # print(output_msg[:5])\n",
    "    \n",
    "    # 2. divide by the total number\n",
    "    eval.mult(duplicate_ctxt, 1/num_slots, duplicate_ctxt)\n",
    "    if duplicate_ctxt.level == eval.min_level_for_bootstrap:\n",
    "            eval.bootstrap(duplicate_ctxt, duplicate_ctxt)\n",
    "\n",
    "    return duplicate_ctxt\n"
   ]
  },
  {
   "cell_type": "code",
   "execution_count": 8,
   "metadata": {},
   "outputs": [
    {
     "name": "stdout",
     "output_type": "stream",
     "text": [
      "piheaan result :  0.16383500000029116\n",
      "palintext result :  0.163835\n"
     ]
    }
   ],
   "source": [
    "mean_ctxt = cal_mean(input_ctxt)\n",
    "mean_msg = heaan.Message(log_slots)\n",
    "dec.decrypt(mean_ctxt, sk, mean_msg)\n",
    "\n",
    "# Find the average in plaintext\n",
    "msg = [i*0.00001 for i in range(0,num_slots)]\n",
    "plain_mean = np.mean(msg)\n",
    "\n",
    "print(\"piheaan result : \", mean_msg[0].real)\n",
    "print(\"palintext result : \", plain_mean)"
   ]
  },
  {
   "cell_type": "code",
   "execution_count": 11,
   "metadata": {},
   "outputs": [
    {
     "name": "stdout",
     "output_type": "stream",
     "text": [
      "piheaan result :  0.008947848525119519\n",
      "palintext result :  0.008947848525\n"
     ]
    }
   ],
   "source": [
    "# variation\n",
    "# 1. mean(input**2)\n",
    "square_ctxt = heaan.Ciphertext(context)\n",
    "eval.mult(input_ctxt,input_ctxt,square_ctxt)\n",
    "\n",
    "if square_ctxt.level == eval.min_level_for_bootstrap:\n",
    "    eval.bootstrap(square_ctxt,square_ctxt)\n",
    "\n",
    "square_mean = cal_mean(square_ctxt)\n",
    "\n",
    "# 2. mean(input)**2\n",
    "mean_square = heaan.Ciphertext(context)\n",
    "eval.mult(mean_ctxt,mean_ctxt,mean_square)\n",
    "\n",
    "if mean_square.level == eval.min_level_for_bootstrap:\n",
    "    eval.bootstrap(mean_square,mean_square)\n",
    "\n",
    "# 3. 1 - 2\n",
    "var_ctxt = heaan.Ciphertext(context)\n",
    "eval.sub(square_mean, mean_square, var_ctxt)\n",
    "\n",
    "var_msg = heaan.Message(log_slots)\n",
    "dec.decrypt(var_ctxt, sk, var_msg)\n",
    "\n",
    "# Find the variation in plaintext\n",
    "plain_var = np.var(msg)\n",
    "\n",
    "print(\"piheaan result : \", var_msg[0].real)\n",
    "print(\"palintext result : \", plain_var)"
   ]
  },
  {
   "cell_type": "code",
   "execution_count": 12,
   "metadata": {},
   "outputs": [
    {
     "name": "stdout",
     "output_type": "stream",
     "text": [
      "piheaan result :  0.09459306806061159\n",
      "palintext result :  0.09459306805997995\n"
     ]
    }
   ],
   "source": [
    "# standard deviation\n",
    "std_ctxt = heaan.Ciphertext(context)\n",
    "heaan.math.approx.sqrt(eval, var_ctxt, std_ctxt)\n",
    "\n",
    "std_msg = heaan.Message(log_slots)\n",
    "dec.decrypt(std_ctxt, sk, std_msg)\n",
    "\n",
    "# Find the standard deviation in plaintext\n",
    "plain_std = np.std(msg)\n",
    "\n",
    "print(\"piheaan result : \", std_msg[0].real)\n",
    "print(\"palintext result : \", plain_std)"
   ]
  },
  {
   "cell_type": "code",
   "execution_count": null,
   "metadata": {},
   "outputs": [],
   "source": []
  }
 ],
 "metadata": {
  "kernelspec": {
   "display_name": "Python 3",
   "language": "python",
   "name": "python3"
  },
  "language_info": {
   "codemirror_mode": {
    "name": "ipython",
    "version": 3
   },
   "file_extension": ".py",
   "mimetype": "text/x-python",
   "name": "python",
   "nbconvert_exporter": "python",
   "pygments_lexer": "ipython3",
   "version": "3.8.10"
  }
 },
 "nbformat": 4,
 "nbformat_minor": 2
}
