{
 "cells": [
  {
   "attachments": {},
   "cell_type": "markdown",
   "metadata": {},
   "source": [
    "# Pi-HEaaN"
   ]
  },
  {
   "cell_type": "code",
   "execution_count": 58,
   "metadata": {},
   "outputs": [],
   "source": [
    "import piheaan as heaan\n",
    "from piheaan.math import sort\n",
    "from piheaan.math import approx # for piheaan math function\n",
    "import math\n",
    "import numpy as np\n",
    "import pandas as pd\n",
    "import os"
   ]
  },
  {
   "cell_type": "code",
   "execution_count": 59,
   "metadata": {},
   "outputs": [],
   "source": [
    "# set parameter\n",
    "params = heaan.ParameterPreset.FGb\n",
    "context = heaan.make_context(params) # context has paramter information\n",
    "heaan.make_bootstrappable(context) # make parameter bootstrapable\n",
    "\n",
    "# create and save keys\n",
    "key_file_path = \"./keys\"\n",
    "sk = heaan.SecretKey(context) # create secret key\n",
    "os.makedirs(key_file_path, mode=0o775, exist_ok=True)\n",
    "sk.save(key_file_path+\"/secretkey.bin\") # save secret key\n",
    "\n",
    "key_generator = heaan.KeyGenerator(context, sk) # create public key\n",
    "key_generator.gen_common_keys()\n",
    "key_generator.save(key_file_path+\"/\") # save public key"
   ]
  },
  {
   "cell_type": "code",
   "execution_count": 60,
   "metadata": {},
   "outputs": [],
   "source": [
    "# load secret key and public key\n",
    "# When a key is created, it can be used again to save a new key without creating a new one\n",
    "key_file_path = \"./keys\"\n",
    "\n",
    "sk = heaan.SecretKey(context,key_file_path+\"/secretkey.bin\") # load secret key\n",
    "pk = heaan.KeyPack(context, key_file_path+\"/\") # load public key\n",
    "pk.load_enc_key()\n",
    "pk.load_mult_key()\n",
    "\n",
    "eval = heaan.HomEvaluator(context,pk) # to load piheaan basic function\n",
    "dec = heaan.Decryptor(context) # for decrypt\n",
    "enc = heaan.Encryptor(context) # for encrypt"
   ]
  },
  {
   "cell_type": "code",
   "execution_count": 61,
   "metadata": {},
   "outputs": [],
   "source": [
    "# log_slots is used for the number of slots per ciphertext\n",
    "# It depends on the parameter used (ParameterPreset)\n",
    "# The number '15' is the value for maximum number of slots,\n",
    "# but you can also use a smaller number (ex. 2, 3, 5, 7 ...)\n",
    "# The actual number of slots in the ciphertext is calculated as below.\n",
    "log_slots = 15 \n",
    "num_slots = 2**log_slots"
   ]
  },
  {
   "attachments": {},
   "cell_type": "markdown",
   "metadata": {},
   "source": [
    "- The computations in pi-heaan are based on operations between slots.\n",
    "- Also, the result of an operation between ciphertexts is placed into a new ciphertext (or overwritten)."
   ]
  },
  {
   "attachments": {},
   "cell_type": "markdown",
   "metadata": {},
   "source": [
    "# 01 heaan.HomEvaluator"
   ]
  },
  {
   "attachments": {},
   "cell_type": "markdown",
   "metadata": {},
   "source": [
    "### add\n",
    "- add : addition of two ciphertexts\n",
    "    - add(self: piheaan.HomEvaluator, arg0: piheaan.Ciphertext, arg1: piheaan.Ciphertext, arg2: piheaan.Ciphertext)\n",
    "    - add(self: piheaan.HomEvaluator, arg0: piheaan.Ciphertext, arg1: piheaan.Message, arg2: piheaan.Ciphertext)\n",
    "    - add(self: piheaan.HomEvaluator, arg0: piheaan.Message, arg1: piheaan.Message, arg2: piheaan.Message)\n",
    "    - arg2 <- arg0 + arg1    \n",
    "\n",
    "### sub\n",
    "- sub : subtraction of two ciphertexts\n",
    "    - same paramters as 'add'"
   ]
  },
  {
   "cell_type": "code",
   "execution_count": 62,
   "metadata": {},
   "outputs": [
    {
     "name": "stdout",
     "output_type": "stream",
     "text": [
      "message_1 :  [ (0.100000+0.000000j), (0.200000+0.000000j), (0.300000+0.000000j), (4.000000+0.000000j), (0.500000+0.000000j), (0.600000+0.000000j), (0.700000+0.000000j), (8.000000+0.000000j) ]\n",
      "\n",
      "message_2 :  [ (0.200000+0.000000j), (0.200000+0.000000j), (0.300000+0.000000j), (0.400000+0.000000j), (0.150000+0.000000j), (2.000000+0.000000j), (0.100000+0.000000j), (8.000000+0.000000j) ]\n"
     ]
    }
   ],
   "source": [
    "log_slots = 3\n",
    "num_slots = 2**log_slots\n",
    "\n",
    "data1 = [0.1, 0.2, 0.3, 4, 0.5, 0.6, 0.7, 8]\n",
    "message_1 = heaan.Message(log_slots)\n",
    "for i in range(num_slots):\n",
    "    message_1[i] = data1[i]\n",
    "\n",
    "data2 = [0.2, 0.2, 0.3, 0.4, 0.15, 2, 0.1, 8]\n",
    "message_2 = heaan.Message(log_slots)\n",
    "for i in range(num_slots):\n",
    "    message_2[i] = data2[i]\n",
    "\n",
    "\n",
    "print(\"message_1 : \", message_1)\n",
    "print()\n",
    "print(\"message_2 : \", message_2)"
   ]
  },
  {
   "cell_type": "code",
   "execution_count": 63,
   "metadata": {},
   "outputs": [
    {
     "name": "stdout",
     "output_type": "stream",
     "text": [
      "(ciphertext + ciphertext) :  [ (0.300000+0.000000j), (0.400000+0.000000j), (0.600000+0.000000j), (4.400000+0.000000j), (0.650000+0.000000j), (2.600000+0.000000j), (0.800000+0.000000j), (16.000000+0.000000j) ]\n"
     ]
    }
   ],
   "source": [
    "# (ciphertext + ciphertext)\n",
    "ciphertext_1 = heaan.Ciphertext(context)\n",
    "ciphertext_2 = heaan.Ciphertext(context)\n",
    "result_add = heaan.Ciphertext(context)\n",
    "\n",
    "enc.encrypt(message_1, pk, ciphertext_1)\n",
    "enc.encrypt(message_2, pk, ciphertext_2)\n",
    "\n",
    "eval.add(ciphertext_1, ciphertext_2, result_add)\n",
    "\n",
    "result_add_message = heaan.Message(log_slots)\n",
    "dec.decrypt(result_add, sk, result_add_message)\n",
    "\n",
    "print(\"(ciphertext + ciphertext) : \", result_add_message)"
   ]
  },
  {
   "cell_type": "code",
   "execution_count": 64,
   "metadata": {},
   "outputs": [
    {
     "name": "stdout",
     "output_type": "stream",
     "text": [
      "(ciphertext + message) :  [ (0.300000+0.000000j), (0.400000+0.000000j), (0.600000+0.000000j), (4.400000+0.000000j), (0.650000+0.000000j), (2.600000+0.000000j), (0.800000+0.000000j), (16.000000+0.000000j) ]\n"
     ]
    }
   ],
   "source": [
    "# (ciphertext + message) 1\n",
    "eval.add(ciphertext_1, message_2, result_add)\n",
    "\n",
    "result_add_message = heaan.Message(log_slots)\n",
    "dec.decrypt(result_add, sk, result_add_message)\n",
    "\n",
    "print(\"(ciphertext + message) : \", result_add_message)"
   ]
  },
  {
   "cell_type": "code",
   "execution_count": 65,
   "metadata": {},
   "outputs": [
    {
     "name": "stdout",
     "output_type": "stream",
     "text": [
      "(ciphertext + message) :  [ (2.100000+0.000000j), (2.200000+0.000000j), (2.300000+0.000000j), (6.000000+0.000000j), (2.500000+0.000000j), (2.600000+0.000000j), (2.700000+0.000000j), (10.000000+0.000000j) ]\n"
     ]
    }
   ],
   "source": [
    "# (ciphertext + message(int or float or ...)) 2\n",
    "eval.add(ciphertext_1, 2, result_add)\n",
    "\n",
    "result_add_message = heaan.Message(log_slots)\n",
    "dec.decrypt(result_add, sk, result_add_message)\n",
    "\n",
    "print(\"(ciphertext + message) : \", result_add_message)"
   ]
  },
  {
   "cell_type": "code",
   "execution_count": 66,
   "metadata": {},
   "outputs": [
    {
     "name": "stdout",
     "output_type": "stream",
     "text": [
      "(message + message) :  [ (0.300000+0.000000j), (0.400000+0.000000j), (0.600000+0.000000j), (4.400000+0.000000j), (0.650000+0.000000j), (2.600000+0.000000j), (0.800000+0.000000j), (16.000000+0.000000j) ]\n"
     ]
    }
   ],
   "source": [
    "# (message + message)\n",
    "result_add_message = heaan.Message(log_slots)\n",
    "eval.add(message_1, message_2, result_add_message)\n",
    "\n",
    "print(\"(message + message) : \", result_add_message)"
   ]
  },
  {
   "attachments": {},
   "cell_type": "markdown",
   "metadata": {},
   "source": [
    "### mult\n",
    "- multiplication of two ciphertexts\n",
    "    - mult(self: piheaan.HomEvaluator, arg0: piheaan.Ciphertext, arg1: piheaan.Ciphertext, arg2: piheaan.Ciphertext)\n",
    "    - mult(self: piheaan.HomEvaluator, arg0: piheaan.Ciphertext, arg1: piheaan.Message, arg2: piheaan.Ciphertext)\n",
    "    - mult(self: piheaan.HomEvaluator, arg0: piheaan.Message, arg1: piheaan.Message, arg2: piheaan.Message)"
   ]
  },
  {
   "cell_type": "code",
   "execution_count": 67,
   "metadata": {},
   "outputs": [
    {
     "name": "stdout",
     "output_type": "stream",
     "text": [
      "(ciphertext * ciphertext) :  [ (0.020000+0.000000j), (0.040000+0.000000j), (0.090000+0.000000j), (1.600000+0.000000j), (0.075000+0.000000j), (1.200000+0.000000j), (0.070000+0.000000j), (64.000000+0.000000j) ]\n"
     ]
    }
   ],
   "source": [
    "# (ciphertext * ciphertext)\n",
    "result_mult = heaan.Ciphertext(context)\n",
    "eval.mult(ciphertext_1, ciphertext_2, result_mult)\n",
    "\n",
    "result_mult_message = heaan.Message(log_slots)\n",
    "dec.decrypt(result_mult, sk, result_mult_message)\n",
    "\n",
    "print(\"(ciphertext * ciphertext) : \", result_mult_message)"
   ]
  },
  {
   "cell_type": "code",
   "execution_count": 68,
   "metadata": {},
   "outputs": [
    {
     "name": "stdout",
     "output_type": "stream",
     "text": [
      "(ciphertext * message) :  [ (0.020000+0.000000j), (0.040000+0.000000j), (0.090000+0.000000j), (1.600000+0.000000j), (0.075000+0.000000j), (1.200000+0.000000j), (0.070000+0.000000j), (64.000000+0.000000j) ]\n"
     ]
    }
   ],
   "source": [
    "# (ciphertext * message) 1\n",
    "eval.mult(ciphertext_1, message_2, result_mult)\n",
    "\n",
    "result_mult_message = heaan.Message(log_slots)\n",
    "dec.decrypt(result_mult, sk, result_mult_message)\n",
    "\n",
    "print(\"(ciphertext * message) : \", result_mult_message)"
   ]
  },
  {
   "cell_type": "code",
   "execution_count": 69,
   "metadata": {},
   "outputs": [
    {
     "name": "stdout",
     "output_type": "stream",
     "text": [
      "(ciphertext * ciphertext) :  [ (0.200000+0.000000j), (0.400000+0.000000j), (0.600000+0.000000j), (8.000000+0.000000j), (1.000000+0.000000j), (1.200000+0.000000j), (1.400000+0.000000j), (16.000000+0.000000j) ]\n"
     ]
    }
   ],
   "source": [
    "# (ciphertext * message) 2\n",
    "eval.mult(ciphertext_1, 2, result_mult)\n",
    "\n",
    "result_mult_message = heaan.Message(log_slots)\n",
    "dec.decrypt(result_mult, sk, result_mult_message)\n",
    "\n",
    "print(\"(ciphertext * ciphertext) : \", result_mult_message)"
   ]
  },
  {
   "cell_type": "code",
   "execution_count": 70,
   "metadata": {},
   "outputs": [
    {
     "name": "stdout",
     "output_type": "stream",
     "text": [
      "(message * message) :  [ (0.020000+0.000000j), (0.040000+0.000000j), (0.090000+0.000000j), (1.600000+0.000000j), (0.075000+0.000000j), (1.200000+0.000000j), (0.070000+0.000000j), (64.000000+0.000000j) ]\n"
     ]
    }
   ],
   "source": [
    "# (message * message)\n",
    "result_mult_message = heaan.Message(log_slots)\n",
    "eval.mult(message_1, message_2, result_mult_message)\n",
    "\n",
    "print(\"(message * message) : \", result_mult_message)"
   ]
  },
  {
   "attachments": {},
   "cell_type": "markdown",
   "metadata": {},
   "source": [
    "### negate\n",
    "- change the sign (ex. -2 -> +2)\n",
    "- negate(self: piheaan.HomEvaluator, arg0: piheaan.Ciphertext, arg1: piheaan.Ciphertext)"
   ]
  },
  {
   "cell_type": "code",
   "execution_count": 71,
   "metadata": {},
   "outputs": [
    {
     "name": "stdout",
     "output_type": "stream",
     "text": [
      "-(ciphertext_1) :  [ (-0.100000+0.000000j), (-0.200000+0.000000j), (-0.300000+0.000000j), (-4.000000+0.000000j), (-0.500000+0.000000j), (-0.600000+0.000000j), (-0.700000+0.000000j), (-8.000000+0.000000j) ]\n",
      "\n",
      "-(-ciphertext_1) :  [ (0.100000+0.000000j), (0.200000+0.000000j), (0.300000+0.000000j), (4.000000+0.000000j), (0.500000+0.000000j), (0.600000+0.000000j), (0.700000+0.000000j), (8.000000+0.000000j) ]\n"
     ]
    }
   ],
   "source": [
    "result_negate = heaan.Ciphertext(context)\n",
    "\n",
    "# plus sign -> minus sign\n",
    "eval.negate(ciphertext_1, result_negate)\n",
    "\n",
    "result_negate_message = heaan.Message(log_slots)\n",
    "dec.decrypt(result_negate, sk, result_negate_message)\n",
    "print(\"-(ciphertext_1) : \", result_negate_message)\n",
    "print()\n",
    "\n",
    "# minus sign -> plus sign\n",
    "eval.negate(result_negate, result_negate)\n",
    "\n",
    "result_negate_message = heaan.Message(log_slots)\n",
    "dec.decrypt(result_negate, sk, result_negate_message)\n",
    "print(\"-(-ciphertext_1) : \", result_negate_message)"
   ]
  },
  {
   "attachments": {},
   "cell_type": "markdown",
   "metadata": {},
   "source": [
    "### square\n",
    "- square of ciphertext (ex. x -> x^2)\n",
    "- square(self: piheaan.HomEvaluator, arg0: piheaan.Ciphertext, arg1: piheaan.Ciphertext)"
   ]
  },
  {
   "cell_type": "code",
   "execution_count": 72,
   "metadata": {},
   "outputs": [
    {
     "name": "stdout",
     "output_type": "stream",
     "text": [
      "(ciphertext_1)**2 :  (level: 23, log(num slots): 3, rescale counter: 0, device: CPU, data: [ (0.010000+0.000000j), (0.040000+0.000000j), (0.090000+0.000000j), (16.000000+0.000000j), (0.250000+0.000000j), (0.360000+0.000000j), (0.490000+0.000000j), (64.000000+0.000000j) ])\n"
     ]
    }
   ],
   "source": [
    "result_square = heaan.Ciphertext(context)\n",
    "\n",
    "eval.square(ciphertext_1, result_square)\n",
    "\n",
    "result_square_message = heaan.Message(log_slots)\n",
    "dec.decrypt(result_square, sk, result_square_message)\n",
    "print(\"(ciphertext_1)**2 : \", result_square) \n",
    "# is the same result as \"eval.mult(ciphertext_1, ciphertext_1, result_square)\""
   ]
  },
  {
   "attachments": {},
   "cell_type": "markdown",
   "metadata": {},
   "source": [
    "### left_rotate / right_rotate\n",
    "- the operation of rotating data in ciphertext\n",
    "- left(right)_rotate(self: piheaan.HomEvaluator, arg0: piheaan.Ciphertext, arg1: int, arg2: piheaan.Ciphertext)"
   ]
  },
  {
   "cell_type": "code",
   "execution_count": 73,
   "metadata": {},
   "outputs": [
    {
     "name": "stdout",
     "output_type": "stream",
     "text": [
      "left_rotate :  [ (4.000000+0.000000j), (0.500000+0.000000j), (0.600000+0.000000j), (0.700000+0.000000j), (8.000000+0.000000j), (0.100000+0.000000j), (0.200000+0.000000j), (0.300000+0.000000j) ]\n",
      "\n",
      "right_rotate :  [ (0.600000+0.000000j), (0.700000+0.000000j), (8.000000+0.000000j), (0.100000+0.000000j), (0.200000+0.000000j), (0.300000+0.000000j), (4.000000+0.000000j), (0.500000+0.000000j) ]\n"
     ]
    }
   ],
   "source": [
    "result_left_rot = heaan.Ciphertext(context)\n",
    "result_right_rot = heaan.Ciphertext(context)\n",
    "\n",
    "# left_rotate\n",
    "eval.left_rotate(ciphertext_1, 3, result_left_rot)\n",
    "\n",
    "result_left_rot_message = heaan.Message(log_slots)\n",
    "dec.decrypt(result_left_rot, sk, result_left_rot_message)\n",
    "print(\"left_rotate : \", result_left_rot_message)\n",
    "print()\n",
    "\n",
    "# right_rotate\n",
    "eval.right_rotate(ciphertext_1, 3, result_right_rot)\n",
    "\n",
    "result_right_rot_message = heaan.Message(log_slots)\n",
    "dec.decrypt(result_right_rot, sk, result_right_rot_message)\n",
    "print(\"right_rotate : \", result_right_rot_message)\n"
   ]
  },
  {
   "attachments": {},
   "cell_type": "markdown",
   "metadata": {},
   "source": [
    "### bootstrap / min_level_for_bootstrap\n",
    "- the level of ciphertext is a value that indicates how many times multiplication can be performed using this ciphertext\n",
    "- if the level of ciphertext becomes min_level_for_bootstrap, you have to do \"bootstrap\"\n",
    "- if the level of ciphertext exceeds 'min_level_for_bootstrap', you cannot perform bootstrap.\n",
    "- Bootstrap must be done before the level reaches 3 or below\n",
    "- Then the level is restored\n",
    "- So you can continue the operation continuously\n",
    "\n",
    "- bootstrap(self: piheaan.HomEvaluator, arg0: piheaan.Ciphertext, \n",
    "\t\targ1: piheaan.Ciphertext)"
   ]
  },
  {
   "cell_type": "code",
   "execution_count": 82,
   "metadata": {},
   "outputs": [
    {
     "name": "stdout",
     "output_type": "stream",
     "text": [
      "1) check ctxt3 level :  23\n",
      "2) after 10 times mult.. ctxt3 level :  3\n",
      "3) after bootstrap! ctxt3 level :  12\n"
     ]
    }
   ],
   "source": [
    "# Lets down the level of ciphertext\n",
    "result_mult = heaan.Ciphertext(context)\n",
    "\n",
    "eval.mult(ciphertext_1, ciphertext_1, result_mult)\n",
    "print(\"1) check ctxt3 level : \", result_mult.level) # if you print 'ciphertext.level', you can check the level of ciphertext\n",
    "for i in range(result_mult.level - eval.min_level_for_bootstrap):\n",
    "    eval.mult(result_mult, result_mult, result_mult)\n",
    "print(\"2) after 10 times mult.. ctxt3 level : \", result_mult.level) # 23 -> 3\n",
    "# Now you cannot do multiplication!\n",
    "# So now..\n",
    "eval.bootstrap(result_mult, result_mult)\n",
    "print(\"3) after bootstrap! ctxt3 level : \", result_mult.level) # now you can do multiplication 12 times"
   ]
  },
  {
   "cell_type": "code",
   "execution_count": 83,
   "metadata": {},
   "outputs": [
    {
     "data": {
      "text/plain": [
       "3"
      ]
     },
     "execution_count": 83,
     "metadata": {},
     "output_type": "execute_result"
    }
   ],
   "source": [
    "# you can check minmum level for bootstrap\n",
    "eval.min_level_for_bootstrap"
   ]
  },
  {
   "attachments": {},
   "cell_type": "markdown",
   "metadata": {},
   "source": [
    "# 02 heaan.math.sort"
   ]
  },
  {
   "attachments": {},
   "cell_type": "markdown",
   "metadata": {},
   "source": [
    "### sort\n",
    "- input range : -0.5 ~ 0.5\n",
    "- 4th parameter(boolean) : False = descending, True = ascending\n",
    "- 5th parameter(boolean) is False(default)\n",
    "- sort(arg0: piheaan.HomEvaluator, \n",
    "        arg1: input : piheaan.Ciphertext, \n",
    "        arg2: result : piheaan.Ciphertext, \n",
    "        arg3: n : int, \n",
    "        arg4: ascent : bool, \n",
    "        arg5: only_last_stage : bool)"
   ]
  },
  {
   "cell_type": "code",
   "execution_count": 110,
   "metadata": {},
   "outputs": [
    {
     "name": "stdout",
     "output_type": "stream",
     "text": [
      "[ (-0.134182+0.000000j), (0.231435+0.000000j), (-0.074949+0.000000j), (-0.252633+0.000000j), (-0.480668+0.000000j), (-0.478114+0.000000j), (0.108921+0.000000j), (-0.012967+0.000000j) ]\n"
     ]
    }
   ],
   "source": [
    "log_slots = 3\n",
    "num_slots = 2 ** log_slots\n",
    "\n",
    "data3 = np.random.uniform(size=num_slots)-0.5\n",
    "message_3 = heaan.Message(log_slots)\n",
    "for i in range(num_slots):\n",
    "    message_3[i]=data3[i]\n",
    "print(message_3)\n",
    "\n",
    "ciphertext_3 = heaan.Ciphertext(context)\n",
    "enc.encrypt(message_3, pk, ciphertext_3)"
   ]
  },
  {
   "cell_type": "code",
   "execution_count": 111,
   "metadata": {},
   "outputs": [
    {
     "name": "stdout",
     "output_type": "stream",
     "text": [
      "index pair in unitSort :0, 1sort :  [ (-0.480668+0.000000j), (-0.478114+0.000000j), (-0.252633+0.000000j), (-0.134182+0.000000j), (-0.074949+0.000000j), (-0.012967+0.000000j), (0.108921+0.000000j), (0.231435+0.000000j) ]\n",
      "\n",
      "index pair in unitSort :1, 2\n",
      "index pair in unitSort :1, 1\n",
      "index pair in unitSort :2, 4\n",
      "index pair in unitSort :2, 2\n",
      "index pair in unitSort :2, 1\n"
     ]
    }
   ],
   "source": [
    "# Input range : -0.5 ~ 0.5\n",
    "\n",
    "ciphertext_out_sort = heaan.Ciphertext(context)\n",
    "sort.sort(eval, ciphertext_3, ciphertext_out_sort, num_slots, True, False) # 4th boolean: 0: descending, 1 : ascending order\n",
    "\n",
    "message_out_sort = heaan.Message(log_slots)\n",
    "\n",
    "dec.decrypt(ciphertext_out_sort, sk, message_out_sort)\n",
    "\n",
    "print(\"sort : \", message_out_sort)"
   ]
  },
  {
   "attachments": {},
   "cell_type": "markdown",
   "metadata": {},
   "source": [
    "# 03 heaan.math.approx"
   ]
  },
  {
   "attachments": {},
   "cell_type": "markdown",
   "metadata": {},
   "source": [
    "### compare\n",
    "- compare the slots of different ciphertexts and identify which value is greater or smaller\n",
    "- input range : 2^-18 < |x-y| < 1\n",
    "- compare(arg0: piheaan.HomEvaluator, \n",
    "            arg1: piheaan.Ciphertext, \n",
    "            arg2: piheaan.Ciphertext, \n",
    "            arg3: piheaan.Ciphertext)\n",
    "\n",
    "- if the value in slot of arg1 > arg2, then return 1\n",
    "- if the value in slot of arg1 < arg2, then return 0\n",
    "- if the value in slot of arg1 == arg2, then return 0.5"
   ]
  },
  {
   "cell_type": "code",
   "execution_count": 86,
   "metadata": {},
   "outputs": [
    {
     "name": "stdout",
     "output_type": "stream",
     "text": [
      "message_3 :  [ (0.932559+0.000000j), (0.375090+0.000000j), (0.463514+0.000000j), (0.728393+0.000000j), (0.805134+0.000000j), (0.586160+0.000000j), (0.831544+0.000000j), (0.783492+0.000000j) ]\n",
      "\n",
      "message_4 :  [ (0.130180+0.000000j), (0.387063+0.000000j), (0.738116+0.000000j), (0.779058+0.000000j), (0.784255+0.000000j), (0.070340+0.000000j), (0.356477+0.000000j), (0.407715+0.000000j) ]\n"
     ]
    }
   ],
   "source": [
    "data3 = np.random.uniform(size=num_slots)\n",
    "data4 = np.random.uniform(size=num_slots)\n",
    "message_3 = heaan.Message(log_slots)\n",
    "message_4 = heaan.Message(log_slots)\n",
    "for i in range(num_slots):\n",
    "    message_3[i]=data3[i]\n",
    "    message_4[i]=data4[i]\n",
    "\n",
    "print(\"message_3 : \", message_3)\n",
    "print()\n",
    "print(\"message_4 : \", message_4)"
   ]
  },
  {
   "cell_type": "code",
   "execution_count": 87,
   "metadata": {},
   "outputs": [],
   "source": [
    "ciphertext_3 = heaan.Ciphertext(context)\n",
    "ciphertext_4 = heaan.Ciphertext(context)\n",
    "result_compare = heaan.Ciphertext(context)\n",
    "\n",
    "enc.encrypt(message_3, pk, ciphertext_3)\n",
    "enc.encrypt(message_4, pk, ciphertext_4)"
   ]
  },
  {
   "cell_type": "code",
   "execution_count": 88,
   "metadata": {},
   "outputs": [
    {
     "name": "stdout",
     "output_type": "stream",
     "text": [
      "result_comp_message :  [ (1.000000+0.000000j), (0.000000+0.000000j), (0.000000+0.000000j), (0.000000+0.000000j), (1.000000+0.000000j), (1.000000+0.000000j), (1.000000+0.000000j), (1.000000+0.000000j) ]\n"
     ]
    }
   ],
   "source": [
    "approx.compare(eval, ciphertext_3, ciphertext_4, result_compare)\n",
    "\n",
    "result_comp_message = heaan.Message(log_slots)\n",
    "dec.decrypt(result_compare, sk, result_comp_message)\n",
    "print(\"result_comp_message : \", result_comp_message)"
   ]
  },
  {
   "attachments": {},
   "cell_type": "markdown",
   "metadata": {},
   "source": [
    "### discrete_equal\n",
    "- compare two ciphertexts and identify whether they have the smae value\n",
    "- input range : |x| ≤ 54 (x : int)\n",
    "- compare two ciphertexts and identify whether they have the same value\n",
    "- discrete_equal(eval: piheaan.HomEvaluator, \n",
    "                    op1: piheaan.Ciphertext, \n",
    "                    op2: piheaan.Ciphertext, \n",
    "                    res: piheaan.Ciphertext)\n",
    "\n",
    "\n",
    "### discrete_equal_zero\n",
    "- compare a ciphertest with 0 and identify whether the value of the ciphertext is equal to 0\n",
    "- input range : |x| ≤ 54 (x : int)\n",
    "- discrete_equal_zero(arg0: piheaan.HomEvaluator, \n",
    "                      arg1: piheaan.Ciphertext, \n",
    "\t\t              arg2: piheaan.Ciphertext)"
   ]
  },
  {
   "cell_type": "code",
   "execution_count": 89,
   "metadata": {},
   "outputs": [
    {
     "name": "stdout",
     "output_type": "stream",
     "text": [
      "message_5 :  [ (0.000000+0.000000j), (1.000000+0.000000j), (2.000000+0.000000j), (3.000000+0.000000j), (4.000000+0.000000j), (5.000000+0.000000j), (6.000000+0.000000j), (7.000000+0.000000j) ]\n",
      "\n",
      "message_6 :  [ (0.000000+0.000000j), (1.000000+0.000000j), (2.000000+0.000000j), (3.000000+0.000000j), (0.000000+0.000000j), (0.000000+0.000000j), (2.000000+0.000000j), (0.000000+0.000000j) ]\n"
     ]
    }
   ],
   "source": [
    "data5 = [i for i in range(num_slots)]\n",
    "data6 = [0, 1, 2, 3, 0, 0, 2, 0]\n",
    "message_5 = heaan.Message(log_slots)\n",
    "message_6 = heaan.Message(log_slots)\n",
    "for i in range(num_slots):\n",
    "    message_5[i]=data5[i]\n",
    "    message_6[i]=data6[i]\n",
    "\n",
    "print(\"message_5 : \", message_5)\n",
    "print()\n",
    "print(\"message_6 : \", message_6)"
   ]
  },
  {
   "cell_type": "code",
   "execution_count": 90,
   "metadata": {},
   "outputs": [
    {
     "name": "stdout",
     "output_type": "stream",
     "text": [
      "message_5 : [ (0.000000+0.000000j), (1.000000+0.000000j), (2.000000+0.000000j), (3.000000+0.000000j), (4.000000+0.000000j), (5.000000+0.000000j), (6.000000+0.000000j), (7.000000+0.000000j) ]\n",
      "\n",
      "message_6 : [ (0.000000+0.000000j), (1.000000+0.000000j), (2.000000+0.000000j), (3.000000+0.000000j), (0.000000+0.000000j), (0.000000+0.000000j), (2.000000+0.000000j), (0.000000+0.000000j) ]\n",
      "\n",
      "discrete_equal result :  [ (1.000000+0.000000j), (1.000000+0.000000j), (1.000000+0.000000j), (1.000000+0.000000j), (0.000000+0.000000j), (0.000000+0.000000j), (0.000000+0.000000j), (0.000000+0.000000j) ]\n",
      "\n",
      "discrete_equal_zero result :  [ (1.000000+0.000000j), (0.000000+0.000000j), (0.000000+0.000000j), (0.000000+0.000000j), (1.000000+0.000000j), (1.000000+0.000000j), (0.000000+0.000000j), (1.000000+0.000000j) ]\n"
     ]
    }
   ],
   "source": [
    "ciphertext_5 = heaan.Ciphertext(context)\n",
    "ciphertext_6 = heaan.Ciphertext(context)\n",
    "\n",
    "enc.encrypt(message_5, pk, ciphertext_5)\n",
    "enc.encrypt(message_6, pk, ciphertext_6)\n",
    "\n",
    "# ciphertext5_left_rotate = heaan.Ciphertext(context)  \n",
    "# eval.left_rotate(ciphertext_5, 5, ciphertext5_left_rotate)  # 5번 암호문을 좌측으로 5칸 로테이션\n",
    "\n",
    "result_discrete_equal = heaan.Ciphertext(context)\n",
    "result_discrete_equal_zero = heaan.Ciphertext(context)\n",
    "approx.discrete_equal(eval, ciphertext_5, ciphertext_6, result_discrete_equal)\n",
    "approx.discrete_equal_zero(eval, ciphertext_6, result_discrete_equal_zero)\n",
    "# approx.discrete_equal(eval, ciphertext_5, ciphertext5_left_rotate, result_discrete_equal_rotate)\n",
    "\n",
    "result_discrete_equal_message = heaan.Message(log_slots)\n",
    "dec.decrypt(result_discrete_equal, sk, result_discrete_equal_message) # 5번과 6번 메시지 비교\n",
    "\n",
    "result_discrete_equal_zero_message = heaan.Message(log_slots)\n",
    "dec.decrypt(result_discrete_equal_zero, sk, result_discrete_equal_zero_message) # 5번과 로테이션 비교\n",
    "\n",
    "print('message_5 :',message_5)\n",
    "print()\n",
    "print('message_6 :', message_6)\n",
    "print()\n",
    "print('discrete_equal result : ', result_discrete_equal_message)\n",
    "print()\n",
    "print('discrete_equal_zero result : ', result_discrete_equal_zero_message)"
   ]
  },
  {
   "attachments": {},
   "cell_type": "markdown",
   "metadata": {},
   "source": [
    "### inverse\n",
    "- take the inverse of the value of the ciphertext\n",
    "- input range : 1 ≤ x ≤ 2^22 or 2^-10 ≤ x ≤ 1\n",
    "- inverse(arg0: piheaan.HomEvaluator, \n",
    "          arg1: piheaan.Ciphertext, \n",
    "\t\t  arg2: piheaan.Ciphertext)\n",
    "\n",
    "          \n",
    "- inverse(eval: piheaan.HomEvaluator, \n",
    "            op: piheaan.Ciphertext, \n",
    "            res: piheaan.Ciphertext, \n",
    "            init: Optional[float] = None, \n",
    "            num_iter: Optional[int] = None, \n",
    "            greater_than_one: bool = True)\n",
    "            \n",
    "- defaul values are init=pow(2, -18), num_iter=23 if greater_than_one==true,\n",
    "- otherwise init=pow(2, -10), num_iter=15"
   ]
  },
  {
   "cell_type": "code",
   "execution_count": 91,
   "metadata": {},
   "outputs": [],
   "source": [
    "data = [i for i in range(1, num_slots+1)]\n",
    "message = heaan.Message(log_slots)\n",
    "for i in range(num_slots):\n",
    "    message[i] = data[i]"
   ]
  },
  {
   "cell_type": "code",
   "execution_count": 92,
   "metadata": {},
   "outputs": [
    {
     "name": "stdout",
     "output_type": "stream",
     "text": [
      "inverse : [ (1.000000+0.000000j), (0.500000+0.000000j), (0.333333+0.000000j), (0.250000+0.000000j), (0.200000+0.000000j), (0.166667+0.000000j), (0.142857+0.000000j), (0.125000+0.000000j) ]\n"
     ]
    }
   ],
   "source": [
    "ciphertext = heaan.Ciphertext(context)\n",
    "result_inv = heaan.Ciphertext(context)\n",
    "\n",
    "enc.encrypt(message, pk, ciphertext)\n",
    "approx.inverse(eval, ciphertext, result_inv) \n",
    "\n",
    "decryptor = heaan.Decryptor(context)\n",
    "result_inv_message = heaan.Message(log_slots)\n",
    "\n",
    "decryptor.decrypt(result_inv, sk, result_inv_message)\n",
    "\n",
    "print('inverse :', result_inv_message) # "
   ]
  },
  {
   "attachments": {},
   "cell_type": "markdown",
   "metadata": {},
   "source": [
    "### sigmoid\n",
    "- sigmoid(arg0: piheaan.HomEvaluator, \n",
    "            arg1: piheaan.Ciphertext, \n",
    "            arg2: piheaan.Ciphertext, \n",
    "            arg3: float)"
   ]
  },
  {
   "cell_type": "code",
   "execution_count": 97,
   "metadata": {},
   "outputs": [],
   "source": [
    "def sigmoid(x):\n",
    "    sig = 1 / (1 + math.exp(-x))\n",
    "    return sig"
   ]
  },
  {
   "cell_type": "code",
   "execution_count": 98,
   "metadata": {},
   "outputs": [
    {
     "name": "stdout",
     "output_type": "stream",
     "text": [
      "[0.717594201543754, 0.5926882485214789, 0.613847356909788, 0.6744526371831566, 0.6910716715848441, 0.6424834922627987, 0.6966813858636864, 0.686432314612332]\n"
     ]
    }
   ],
   "source": [
    "plaintext_sigmoid = []\n",
    "for x in message_3:\n",
    "    plaintext_sigmoid.append(sigmoid(x.real))\n",
    "\n",
    "print(plaintext_sigmoid)"
   ]
  },
  {
   "cell_type": "code",
   "execution_count": 99,
   "metadata": {},
   "outputs": [
    {
     "name": "stdout",
     "output_type": "stream",
     "text": [
      "sigmoid :  [ (0.717596+0.000000j), (0.592686+0.000000j), (0.613846+0.000000j), (0.674453+0.000000j), (0.691073+0.000000j), (0.642483+0.000000j), (0.696683+0.000000j), (0.686433+0.000000j) ]\n"
     ]
    }
   ],
   "source": [
    "ciphertext_3 = heaan.Ciphertext(context)\n",
    "result_sigmoid = heaan.Ciphertext(context)\n",
    "\n",
    "enc.encrypt(message_3, pk, ciphertext_3)\n",
    "enc.encrypt(message_4, pk, ciphertext_4)\n",
    "\n",
    "approx.sigmoid(eval, ciphertext_3, result_sigmoid, 8.0)\n",
    "\n",
    "result_sigmoid_message = heaan.Message(log_slots)\n",
    "dec.decrypt(result_sigmoid, sk, result_sigmoid_message)\n",
    "print(\"sigmoid : \", result_sigmoid_message)"
   ]
  },
  {
   "attachments": {},
   "cell_type": "markdown",
   "metadata": {},
   "source": [
    "### sign\n",
    "- input range 2^-18 < |x| < 1\n",
    "- sign(arg0: piheaan.HomEvaluator, \n",
    "       arg1: piheaan.Ciphertext, \n",
    "       arg2: piheaan.Ciphertext, \n",
    "       arg3: numiter_g : int, \n",
    "       arg4: numiter_f : int)\n",
    "\n",
    "- default : 3rd paramter = 8 and 4th paramter = 3"
   ]
  },
  {
   "cell_type": "code",
   "execution_count": 100,
   "metadata": {},
   "outputs": [
    {
     "name": "stdout",
     "output_type": "stream",
     "text": [
      "[ (-0.686595+0.000000j), (-0.089386+0.000000j), (-0.851410+0.000000j), (-0.462808+0.000000j), (-0.420806+0.000000j), (0.212859+0.000000j), (-0.516782+0.000000j), (0.596589+0.000000j) ]\n"
     ]
    }
   ],
   "source": [
    "data = np.random.uniform(-1, 1, size=num_slots)\n",
    "message = heaan.Message(log_slots)\n",
    "for i in range(num_slots):\n",
    "    message[i] = data[i]\n",
    "print(message)\n",
    "\n",
    "ciphertext = heaan.Ciphertext(context)\n",
    "enc.encrypt(message, pk, ciphertext)"
   ]
  },
  {
   "cell_type": "code",
   "execution_count": 101,
   "metadata": {},
   "outputs": [
    {
     "name": "stdout",
     "output_type": "stream",
     "text": [
      "sign :  [ (-1.000000+0.000000j), (-1.000000+0.000000j), (-1.000000+0.000000j), (-1.000000+0.000000j), (-1.000000+0.000000j), (1.000000+0.000000j), (-1.000000+0.000000j), (1.000000+0.000000j) ]\n"
     ]
    }
   ],
   "source": [
    "result_sign = heaan.Ciphertext(context)\n",
    "\n",
    "approx.sign(eval, ciphertext, result_sign)\n",
    "\n",
    "result_sign_message = heaan.Message(log_slots)\n",
    "dec.decrypt(result_sign, sk, result_sign_message)\n",
    "print(\"sign : \", result_sign_message)"
   ]
  },
  {
   "attachments": {},
   "cell_type": "markdown",
   "metadata": {},
   "source": [
    "### sqrt\n",
    "- input range : 2^-18 ≤ x ≤ 2\n",
    "- sqrt(arg0: piheaan.HomEvaluator, \n",
    "       arg1: piheaan.Ciphertext, \n",
    "       arg2: piheaan.Ciphertext,\n",
    "       arg3 : init)\n",
    "       \n",
    "- The default value for 3rd parameter is 17.\n",
    "- You can specify a value when you change the default settings.\n",
    "- As the value of the variable changes, the value of the square root and the value of the ciphertext level change.\n",
    "- Error when entering 0 or non-integer values\n",
    "\n"
   ]
  },
  {
   "attachments": {},
   "cell_type": "markdown",
   "metadata": {},
   "source": [
    "### sqrt_inverse\n",
    "- x -> 1/sqrt(x)\n",
    "- input range : 1 ≤ x ≤ 2^22 or 2^-10 ≤ x ≤ 1\n",
    "- sqrt_inverse(eval: piheaan.HomEvaluator, \n",
    "                op: piheaan.Ciphertext, \n",
    "                res: piheaan.Ciphertext, \n",
    "                init: Optional[float] = None, \n",
    "                num_iter: Optional[int] = None, \n",
    "                greater_than_one: bool = True)\n",
    "\n",
    "- default values are init = pow(2, -9), num_iter=20 if greater_than_one==true, \n",
    "- otherwise init = pow(2, -5), num_iter=14\n"
   ]
  },
  {
   "cell_type": "code",
   "execution_count": 106,
   "metadata": {},
   "outputs": [
    {
     "name": "stdout",
     "output_type": "stream",
     "text": [
      "message : [ (0.505862+0.000000j), (0.489682+0.000000j), (1.861800+0.000000j), (1.346180+0.000000j), (0.865946+0.000000j), (1.349236+0.000000j), (0.590720+0.000000j), (0.204001+0.000000j) ]\n"
     ]
    }
   ],
   "source": [
    "log_slots = 3\n",
    "num_slots = 2 ** log_slots\n",
    "\n",
    "data = np.random.uniform(2**(-18), 2, num_slots)\n",
    "# data = [i for i in range(num_slots)]\n",
    "message = heaan.Message(log_slots)\n",
    "for i in range(num_slots):\n",
    "    message[i] = data[i]\n",
    "print('message :', message)"
   ]
  },
  {
   "cell_type": "code",
   "execution_count": 107,
   "metadata": {},
   "outputs": [],
   "source": [
    "ciphertext = heaan.Ciphertext(context)\n",
    "enc.encrypt(message, pk, ciphertext)\n",
    "\n",
    "ciphertext_sqrt = heaan.Ciphertext(context)\n",
    "approx.sqrt(eval, ciphertext, ciphertext_sqrt)\n",
    "\n",
    "ciphertext_sqrt_inv = heaan.Ciphertext(context)\n",
    "approx.sqrt_inverse(eval, ciphertext, ciphertext_sqrt_inv) # 1 ~ 2^18\n",
    "\n",
    "message_out_sqrt = heaan.Message(log_slots)\n",
    "message_out_sqrt_inv = heaan.Message(log_slots)"
   ]
  },
  {
   "cell_type": "code",
   "execution_count": 108,
   "metadata": {},
   "outputs": [
    {
     "name": "stdout",
     "output_type": "stream",
     "text": [
      "sqrt :  [ (0.711240+0.000000j), (0.699773+0.000000j), (1.364478+0.000000j), (1.160250+0.000000j), (0.930562+0.000000j), (1.161566+0.000000j), (0.768583+0.000000j), (0.451665+0.000000j) ]\n",
      "\n",
      "sqrt_inverse :  [ (1.405995+0.000000j), (1.429035+0.000000j), (0.732881+0.000000j), (0.861883+0.000000j), (1.074619+0.000000j), (0.860907+0.000000j), (1.301096+0.000000j), (2.213189+0.000000j) ]\n"
     ]
    }
   ],
   "source": [
    "dec.decrypt(ciphertext_sqrt, sk, message_out_sqrt)\n",
    "dec.decrypt(ciphertext_sqrt_inv, sk, message_out_sqrt_inv)\n",
    "\n",
    "print('sqrt : ', message_out_sqrt)\n",
    "print()\n",
    "print('sqrt_inverse : ', message_out_sqrt_inv)"
   ]
  },
  {
   "cell_type": "code",
   "execution_count": null,
   "metadata": {},
   "outputs": [],
   "source": []
  }
 ],
 "metadata": {
  "kernelspec": {
   "display_name": "Python 3",
   "language": "python",
   "name": "python3"
  },
  "language_info": {
   "codemirror_mode": {
    "name": "ipython",
    "version": 3
   },
   "file_extension": ".py",
   "mimetype": "text/x-python",
   "name": "python",
   "nbconvert_exporter": "python",
   "pygments_lexer": "ipython3",
   "version": "3.8.10"
  },
  "orig_nbformat": 4,
  "vscode": {
   "interpreter": {
    "hash": "916dbcbb3f70747c44a77c7bcd40155683ae19c65e1c03b4aa3499c5328201f1"
   }
  }
 },
 "nbformat": 4,
 "nbformat_minor": 2
}
